{
  "nbformat": 4,
  "nbformat_minor": 0,
  "metadata": {
    "colab": {
      "name": "notebook_donkey_car_for_simulator_v2.ipynb",
      "provenance": [],
      "collapsed_sections": []
    },
    "kernelspec": {
      "name": "python3",
      "display_name": "Python 3"
    },
    "accelerator": "GPU"
  },
  "cells": [
    {
      "cell_type": "markdown",
      "metadata": {
        "id": "wlD03JYf1kgC",
        "colab_type": "text"
      },
      "source": [
        "# Install TensorFlow "
      ]
    },
    {
      "cell_type": "code",
      "metadata": {
        "id": "qDftbH-Y06d7",
        "colab_type": "code",
        "outputId": "ad7a451a-1ed5-4391-ca3e-983d2b4dd34b",
        "colab": {
          "base_uri": "https://localhost:8080/",
          "height": 662
        }
      },
      "source": [
        "# Newest nightly version. Didn't work for training. Missing 'ConfigProto' library \n",
        "#!pip uninstall tensorflow\n",
        "!pip install tensorflow-gpu==1.13.1\n",
        "# Install tensor flow gpu in case it's not installed\n",
        "\n",
        "#!pip install tensorflow-gpu==1.14.0\n",
        "# Check if TF installed\n",
        "#!pip install tensorflow==2.0.0-rc1 \n",
        " "
      ],
      "execution_count": 1,
      "outputs": [
        {
          "output_type": "stream",
          "text": [
            "Collecting tensorflow-gpu==1.13.1\n",
            "\u001b[?25l  Downloading https://files.pythonhosted.org/packages/7b/b1/0ad4ae02e17ddd62109cd54c291e311c4b5fd09b4d0678d3d6ce4159b0f0/tensorflow_gpu-1.13.1-cp36-cp36m-manylinux1_x86_64.whl (345.2MB)\n",
            "\u001b[K     |████████████████████████████████| 345.2MB 25kB/s \n",
            "\u001b[?25hRequirement already satisfied: keras-applications>=1.0.6 in /usr/local/lib/python3.6/dist-packages (from tensorflow-gpu==1.13.1) (1.0.8)\n",
            "Collecting tensorboard<1.14.0,>=1.13.0\n",
            "\u001b[?25l  Downloading https://files.pythonhosted.org/packages/0f/39/bdd75b08a6fba41f098b6cb091b9e8c7a80e1b4d679a581a0ccd17b10373/tensorboard-1.13.1-py3-none-any.whl (3.2MB)\n",
            "\u001b[K     |████████████████████████████████| 3.2MB 43.3MB/s \n",
            "\u001b[?25hRequirement already satisfied: wheel>=0.26 in /usr/local/lib/python3.6/dist-packages (from tensorflow-gpu==1.13.1) (0.33.6)\n",
            "Requirement already satisfied: grpcio>=1.8.6 in /usr/local/lib/python3.6/dist-packages (from tensorflow-gpu==1.13.1) (1.15.0)\n",
            "Requirement already satisfied: keras-preprocessing>=1.0.5 in /usr/local/lib/python3.6/dist-packages (from tensorflow-gpu==1.13.1) (1.1.0)\n",
            "Requirement already satisfied: six>=1.10.0 in /usr/local/lib/python3.6/dist-packages (from tensorflow-gpu==1.13.1) (1.12.0)\n",
            "Requirement already satisfied: numpy>=1.13.3 in /usr/local/lib/python3.6/dist-packages (from tensorflow-gpu==1.13.1) (1.17.5)\n",
            "Collecting tensorflow-estimator<1.14.0rc0,>=1.13.0\n",
            "\u001b[?25l  Downloading https://files.pythonhosted.org/packages/bb/48/13f49fc3fa0fdf916aa1419013bb8f2ad09674c275b4046d5ee669a46873/tensorflow_estimator-1.13.0-py2.py3-none-any.whl (367kB)\n",
            "\u001b[K     |████████████████████████████████| 368kB 54.5MB/s \n",
            "\u001b[?25hRequirement already satisfied: absl-py>=0.1.6 in /usr/local/lib/python3.6/dist-packages (from tensorflow-gpu==1.13.1) (0.9.0)\n",
            "Requirement already satisfied: astor>=0.6.0 in /usr/local/lib/python3.6/dist-packages (from tensorflow-gpu==1.13.1) (0.8.1)\n",
            "Requirement already satisfied: protobuf>=3.6.1 in /usr/local/lib/python3.6/dist-packages (from tensorflow-gpu==1.13.1) (3.10.0)\n",
            "Requirement already satisfied: termcolor>=1.1.0 in /usr/local/lib/python3.6/dist-packages (from tensorflow-gpu==1.13.1) (1.1.0)\n",
            "Requirement already satisfied: gast>=0.2.0 in /usr/local/lib/python3.6/dist-packages (from tensorflow-gpu==1.13.1) (0.2.2)\n",
            "Requirement already satisfied: h5py in /usr/local/lib/python3.6/dist-packages (from keras-applications>=1.0.6->tensorflow-gpu==1.13.1) (2.8.0)\n",
            "Requirement already satisfied: markdown>=2.6.8 in /usr/local/lib/python3.6/dist-packages (from tensorboard<1.14.0,>=1.13.0->tensorflow-gpu==1.13.1) (3.1.1)\n",
            "Requirement already satisfied: werkzeug>=0.11.15 in /usr/local/lib/python3.6/dist-packages (from tensorboard<1.14.0,>=1.13.0->tensorflow-gpu==1.13.1) (0.16.0)\n",
            "Collecting mock>=2.0.0\n",
            "  Downloading https://files.pythonhosted.org/packages/05/d2/f94e68be6b17f46d2c353564da56e6fb89ef09faeeff3313a046cb810ca9/mock-3.0.5-py2.py3-none-any.whl\n",
            "Requirement already satisfied: setuptools in /usr/local/lib/python3.6/dist-packages (from protobuf>=3.6.1->tensorflow-gpu==1.13.1) (42.0.2)\n",
            "\u001b[31mERROR: tensorflow 1.15.0 has requirement tensorboard<1.16.0,>=1.15.0, but you'll have tensorboard 1.13.1 which is incompatible.\u001b[0m\n",
            "\u001b[31mERROR: tensorflow 1.15.0 has requirement tensorflow-estimator==1.15.1, but you'll have tensorflow-estimator 1.13.0 which is incompatible.\u001b[0m\n",
            "Installing collected packages: tensorboard, mock, tensorflow-estimator, tensorflow-gpu\n",
            "  Found existing installation: tensorboard 1.15.0\n",
            "    Uninstalling tensorboard-1.15.0:\n",
            "      Successfully uninstalled tensorboard-1.15.0\n",
            "  Found existing installation: tensorflow-estimator 1.15.1\n",
            "    Uninstalling tensorflow-estimator-1.15.1:\n",
            "      Successfully uninstalled tensorflow-estimator-1.15.1\n",
            "Successfully installed mock-3.0.5 tensorboard-1.13.1 tensorflow-estimator-1.13.0 tensorflow-gpu-1.13.1\n"
          ],
          "name": "stdout"
        }
      ]
    },
    {
      "cell_type": "code",
      "metadata": {
        "id": "Ao5qKx975yjU",
        "colab_type": "code",
        "outputId": "7550ed94-e883-4527-f763-e2ea39581986",
        "colab": {
          "base_uri": "https://localhost:8080/",
          "height": 263
        }
      },
      "source": [
        "!python3 -c 'import tensorflow as tf; print(tf.__version__)'"
      ],
      "execution_count": 2,
      "outputs": [
        {
          "output_type": "stream",
          "text": [
            "/usr/local/lib/python3.6/dist-packages/tensorflow/python/framework/dtypes.py:526: FutureWarning: Passing (type, 1) or '1type' as a synonym of type is deprecated; in a future version of numpy, it will be understood as (type, (1,)) / '(1,)type'.\n",
            "  _np_qint8 = np.dtype([(\"qint8\", np.int8, 1)])\n",
            "/usr/local/lib/python3.6/dist-packages/tensorflow/python/framework/dtypes.py:527: FutureWarning: Passing (type, 1) or '1type' as a synonym of type is deprecated; in a future version of numpy, it will be understood as (type, (1,)) / '(1,)type'.\n",
            "  _np_quint8 = np.dtype([(\"quint8\", np.uint8, 1)])\n",
            "/usr/local/lib/python3.6/dist-packages/tensorflow/python/framework/dtypes.py:528: FutureWarning: Passing (type, 1) or '1type' as a synonym of type is deprecated; in a future version of numpy, it will be understood as (type, (1,)) / '(1,)type'.\n",
            "  _np_qint16 = np.dtype([(\"qint16\", np.int16, 1)])\n",
            "/usr/local/lib/python3.6/dist-packages/tensorflow/python/framework/dtypes.py:529: FutureWarning: Passing (type, 1) or '1type' as a synonym of type is deprecated; in a future version of numpy, it will be understood as (type, (1,)) / '(1,)type'.\n",
            "  _np_quint16 = np.dtype([(\"quint16\", np.uint16, 1)])\n",
            "/usr/local/lib/python3.6/dist-packages/tensorflow/python/framework/dtypes.py:530: FutureWarning: Passing (type, 1) or '1type' as a synonym of type is deprecated; in a future version of numpy, it will be understood as (type, (1,)) / '(1,)type'.\n",
            "  _np_qint32 = np.dtype([(\"qint32\", np.int32, 1)])\n",
            "/usr/local/lib/python3.6/dist-packages/tensorflow/python/framework/dtypes.py:535: FutureWarning: Passing (type, 1) or '1type' as a synonym of type is deprecated; in a future version of numpy, it will be understood as (type, (1,)) / '(1,)type'.\n",
            "  np_resource = np.dtype([(\"resource\", np.ubyte, 1)])\n",
            "1.13.1\n"
          ],
          "name": "stdout"
        }
      ]
    },
    {
      "cell_type": "code",
      "metadata": {
        "id": "WJn-5Ty9I5To",
        "colab_type": "code",
        "outputId": "b82439ac-132d-48f0-e31b-932a76f354ec",
        "colab": {
          "base_uri": "https://localhost:8080/",
          "height": 310
        }
      },
      "source": [
        "# Check if GPU in computer\n",
        "import tensorflow as tf\n",
        "device_name = tf.test.gpu_device_name()\n",
        "if device_name != '/device:GPU:0':\n",
        "  raise SystemError('GPU device not found')\n",
        "print('Found GPU at: {}'.format(device_name))"
      ],
      "execution_count": 3,
      "outputs": [
        {
          "output_type": "stream",
          "text": [
            "/usr/local/lib/python3.6/dist-packages/tensorflow/python/framework/dtypes.py:526: FutureWarning: Passing (type, 1) or '1type' as a synonym of type is deprecated; in a future version of numpy, it will be understood as (type, (1,)) / '(1,)type'.\n",
            "  _np_qint8 = np.dtype([(\"qint8\", np.int8, 1)])\n",
            "/usr/local/lib/python3.6/dist-packages/tensorflow/python/framework/dtypes.py:527: FutureWarning: Passing (type, 1) or '1type' as a synonym of type is deprecated; in a future version of numpy, it will be understood as (type, (1,)) / '(1,)type'.\n",
            "  _np_quint8 = np.dtype([(\"quint8\", np.uint8, 1)])\n",
            "/usr/local/lib/python3.6/dist-packages/tensorflow/python/framework/dtypes.py:528: FutureWarning: Passing (type, 1) or '1type' as a synonym of type is deprecated; in a future version of numpy, it will be understood as (type, (1,)) / '(1,)type'.\n",
            "  _np_qint16 = np.dtype([(\"qint16\", np.int16, 1)])\n",
            "/usr/local/lib/python3.6/dist-packages/tensorflow/python/framework/dtypes.py:529: FutureWarning: Passing (type, 1) or '1type' as a synonym of type is deprecated; in a future version of numpy, it will be understood as (type, (1,)) / '(1,)type'.\n",
            "  _np_quint16 = np.dtype([(\"quint16\", np.uint16, 1)])\n",
            "/usr/local/lib/python3.6/dist-packages/tensorflow/python/framework/dtypes.py:530: FutureWarning: Passing (type, 1) or '1type' as a synonym of type is deprecated; in a future version of numpy, it will be understood as (type, (1,)) / '(1,)type'.\n",
            "  _np_qint32 = np.dtype([(\"qint32\", np.int32, 1)])\n",
            "/usr/local/lib/python3.6/dist-packages/tensorflow/python/framework/dtypes.py:535: FutureWarning: Passing (type, 1) or '1type' as a synonym of type is deprecated; in a future version of numpy, it will be understood as (type, (1,)) / '(1,)type'.\n",
            "  np_resource = np.dtype([(\"resource\", np.ubyte, 1)])\n"
          ],
          "name": "stderr"
        },
        {
          "output_type": "display_data",
          "data": {
            "text/html": [
              "<p style=\"color: red;\">\n",
              "The default version of TensorFlow in Colab will soon switch to TensorFlow 2.x.<br>\n",
              "We recommend you <a href=\"https://www.tensorflow.org/guide/migrate\" target=\"_blank\">upgrade</a> now \n",
              "or ensure your notebook will continue to use TensorFlow 1.x via the <code>%tensorflow_version 1.x</code> magic:\n",
              "<a href=\"https://colab.research.google.com/notebooks/tensorflow_version.ipynb\" target=\"_blank\">more info</a>.</p>\n"
            ],
            "text/plain": [
              "<IPython.core.display.HTML object>"
            ]
          },
          "metadata": {
            "tags": []
          }
        },
        {
          "output_type": "stream",
          "text": [
            "Found GPU at: /device:GPU:0\n"
          ],
          "name": "stdout"
        }
      ]
    },
    {
      "cell_type": "markdown",
      "metadata": {
        "id": "jxpSi9MJ2751",
        "colab_type": "text"
      },
      "source": [
        "# Installation DonkeyCar"
      ]
    },
    {
      "cell_type": "code",
      "metadata": {
        "id": "wtPjCiq72GZ2",
        "colab_type": "code",
        "outputId": "324e465e-cccf-42b0-f283-cb66091dc93c",
        "colab": {
          "base_uri": "https://localhost:8080/",
          "height": 139
        }
      },
      "source": [
        "%cd /content/\n",
        "!git clone https://github.com/JuanFuriaz/donkey_share.git"
      ],
      "execution_count": 11,
      "outputs": [
        {
          "output_type": "stream",
          "text": [
            "/content\n",
            "Cloning into 'donkey_share'...\n",
            "remote: Enumerating objects: 470, done.\u001b[K\n",
            "remote: Total 470 (delta 0), reused 0 (delta 0), pack-reused 470\u001b[K\n",
            "Receiving objects: 100% (470/470), 153.56 MiB | 32.03 MiB/s, done.\n",
            "Resolving deltas: 100% (79/79), done.\n",
            "Checking out files: 100% (416/416), done.\n"
          ],
          "name": "stdout"
        }
      ]
    },
    {
      "cell_type": "markdown",
      "metadata": {
        "id": "vvDElwzW5HXq",
        "colab_type": "text"
      },
      "source": [
        "# Upload files"
      ]
    },
    {
      "cell_type": "markdown",
      "metadata": {
        "id": "KdscHYArJoOM",
        "colab_type": "text"
      },
      "source": [
        "**From Github Simulator**"
      ]
    },
    {
      "cell_type": "code",
      "metadata": {
        "id": "rkBKH1pVKfoG",
        "colab_type": "code",
        "outputId": "8ab16415-ca4c-4870-c458-98b8679f1fc2",
        "colab": {
          "base_uri": "https://localhost:8080/",
          "height": 191
        }
      },
      "source": [
        "%cd /content/donkey_share/mycar/\n",
        "!mkdir data\n",
        "%cd /content/donkey_share/mycar/data\n",
        "!rm -r * #Erase in case of old data \n",
        "!git clone https://github.com/doc-beha/donkey_car_training_data_sim # get the latest data\n",
        "!mv /content/donkey_share/mycar/data/donkey_car_training_data_sim/* /content/donkey_share/mycar/data/    #\n",
        "!rm -r donkey_car_training_data_sim"
      ],
      "execution_count": 14,
      "outputs": [
        {
          "output_type": "stream",
          "text": [
            "/content/donkey_share/mycar\n",
            "mkdir: cannot create directory ‘data’: File exists\n",
            "/content/donkey_share/mycar/data\n",
            "Cloning into 'donkey_car_training_data_sim'...\n",
            "remote: Enumerating objects: 2522, done.\u001b[K\n",
            "remote: Counting objects: 100% (2522/2522), done.\u001b[K\n",
            "remote: Compressing objects: 100% (883/883), done.\u001b[K\n",
            "remote: Total 2522 (delta 1638), reused 2522 (delta 1638), pack-reused 0\u001b[K\n",
            "Receiving objects: 100% (2522/2522), 2.32 MiB | 4.54 MiB/s, done.\n",
            "Resolving deltas: 100% (1638/1638), done.\n"
          ],
          "name": "stdout"
        }
      ]
    },
    {
      "cell_type": "code",
      "metadata": {
        "id": "ITIgJnanQEFv",
        "colab_type": "code",
        "outputId": "dafd71eb-0e33-4787-cfe4-e88f2dd27ec6",
        "colab": {
          "base_uri": "https://localhost:8080/",
          "height": 208
        }
      },
      "source": [
        "# do data augmentation\n",
        "\n",
        "# some parameters for data augmentation\n",
        "\n",
        "# name of training-data-set\n",
        "tub_name=\"tub_1_20-01-19\"\n",
        "# methods for data-augmentation (supported are currenty classic, gaussian, threshold, canny and/or style-augmentation; or select all)\n",
        "#method=\"classic,style_aug\"\n",
        "#method=\"classic,gaussian,threshold\"\n",
        "method=\"classic\"\n",
        "\n",
        "\n",
        "%cd /content/donkey_share/\n",
        "!python augment.py --path=/content/donkey_share/mycar/data/\"$tub_name\"/ --out=/content/donkey_share/mycar/data_tmp --method=\"$method\" --gpu_enabled=1\n",
        "\n",
        "%cd /content/donkey_share/mycar/data_tmp \n",
        "!rm -r _original\n",
        "%cd /content/donkey_share/mycar/\n",
        "!mv data_tmp/* data/\n",
        "!rm -r data_tmp\n",
        "\n",
        "\n"
      ],
      "execution_count": 17,
      "outputs": [
        {
          "output_type": "stream",
          "text": [
            "/content/donkey_share\n",
            "1\n",
            "Start augmentation\n",
            "  Augmenting 1676 records from \"/content/donkey_share/mycar/data/tub_1_20-01-19/\". Target folder: \"/content/donkey_share/mycar/data_tmp\"\n",
            "  Original files copies to \"%s\" /content/donkey_share/mycar/data_tmp/_original\n",
            "  -------------------------------------------------\n",
            "  history\t |====================| 100.0% done\n",
            "  -------------------------------------------------\n",
            "Augmentation done. Total records 8233.\n",
            "/content/donkey_share/mycar/data_tmp\n",
            "/content/donkey_share/mycar\n"
          ],
          "name": "stdout"
        }
      ]
    },
    {
      "cell_type": "markdown",
      "metadata": {
        "id": "f7FxYfiOBK-N",
        "colab_type": "text"
      },
      "source": [
        "# Trainig"
      ]
    },
    {
      "cell_type": "code",
      "metadata": {
        "id": "o21x655L-C3M",
        "colab_type": "code",
        "outputId": "9a8fa67b-f89f-43d7-d54d-694ef07580dc",
        "colab": {
          "base_uri": "https://localhost:8080/",
          "height": 1000
        }
      },
      "source": [
        "# do training\n",
        "\n",
        "# some parameters for training\n",
        "model_name = 'model_simulator_02_02_20_classic_test.h5'\n",
        "!mkdir /content/donkey_share/mycar/models\n",
        "!python /content/donkey_share/mycar/manage.py train --type linear --model /content/donkey_share/mycar/models/\"$model_name\""
      ],
      "execution_count": 21,
      "outputs": [
        {
          "output_type": "stream",
          "text": [
            "mkdir: cannot create directory ‘/content/donkey_share/mycar/models’: File exists\n",
            "using donkey v3.1.1 ...\n",
            "loading config file: /content/donkey_share/mycar/config.py\n",
            "loading personal config over-rides\n",
            "\n",
            "config loaded\n",
            "/usr/local/lib/python3.6/dist-packages/tensorflow/python/framework/dtypes.py:526: FutureWarning: Passing (type, 1) or '1type' as a synonym of type is deprecated; in a future version of numpy, it will be understood as (type, (1,)) / '(1,)type'.\n",
            "  _np_qint8 = np.dtype([(\"qint8\", np.int8, 1)])\n",
            "/usr/local/lib/python3.6/dist-packages/tensorflow/python/framework/dtypes.py:527: FutureWarning: Passing (type, 1) or '1type' as a synonym of type is deprecated; in a future version of numpy, it will be understood as (type, (1,)) / '(1,)type'.\n",
            "  _np_quint8 = np.dtype([(\"quint8\", np.uint8, 1)])\n",
            "/usr/local/lib/python3.6/dist-packages/tensorflow/python/framework/dtypes.py:528: FutureWarning: Passing (type, 1) or '1type' as a synonym of type is deprecated; in a future version of numpy, it will be understood as (type, (1,)) / '(1,)type'.\n",
            "  _np_qint16 = np.dtype([(\"qint16\", np.int16, 1)])\n",
            "/usr/local/lib/python3.6/dist-packages/tensorflow/python/framework/dtypes.py:529: FutureWarning: Passing (type, 1) or '1type' as a synonym of type is deprecated; in a future version of numpy, it will be understood as (type, (1,)) / '(1,)type'.\n",
            "  _np_quint16 = np.dtype([(\"quint16\", np.uint16, 1)])\n",
            "/usr/local/lib/python3.6/dist-packages/tensorflow/python/framework/dtypes.py:530: FutureWarning: Passing (type, 1) or '1type' as a synonym of type is deprecated; in a future version of numpy, it will be understood as (type, (1,)) / '(1,)type'.\n",
            "  _np_qint32 = np.dtype([(\"qint32\", np.int32, 1)])\n",
            "/usr/local/lib/python3.6/dist-packages/tensorflow/python/framework/dtypes.py:535: FutureWarning: Passing (type, 1) or '1type' as a synonym of type is deprecated; in a future version of numpy, it will be understood as (type, (1,)) / '(1,)type'.\n",
            "  np_resource = np.dtype([(\"resource\", np.ubyte, 1)])\n",
            "2020-02-02 12:09:35.461861: I tensorflow/core/platform/cpu_feature_guard.cc:141] Your CPU supports instructions that this TensorFlow binary was not compiled to use: AVX2 AVX512F FMA\n",
            "2020-02-02 12:09:35.557869: I tensorflow/stream_executor/cuda/cuda_gpu_executor.cc:998] successful NUMA node read from SysFS had negative value (-1), but there must be at least one NUMA node, so returning NUMA node zero\n",
            "2020-02-02 12:09:35.558571: I tensorflow/compiler/xla/service/service.cc:150] XLA service 0x3318f20 executing computations on platform CUDA. Devices:\n",
            "2020-02-02 12:09:35.558605: I tensorflow/compiler/xla/service/service.cc:158]   StreamExecutor device (0): Tesla T4, Compute Capability 7.5\n",
            "2020-02-02 12:09:35.560166: I tensorflow/core/platform/profile_utils/cpu_utils.cc:94] CPU Frequency: 2000160000 Hz\n",
            "2020-02-02 12:09:35.560368: I tensorflow/compiler/xla/service/service.cc:150] XLA service 0x3318dc0 executing computations on platform Host. Devices:\n",
            "2020-02-02 12:09:35.560400: I tensorflow/compiler/xla/service/service.cc:158]   StreamExecutor device (0): <undefined>, <undefined>\n",
            "2020-02-02 12:09:35.560522: I tensorflow/core/common_runtime/gpu/gpu_device.cc:1433] Found device 0 with properties: \n",
            "name: Tesla T4 major: 7 minor: 5 memoryClockRate(GHz): 1.59\n",
            "pciBusID: 0000:00:04.0\n",
            "totalMemory: 14.73GiB freeMemory: 14.52GiB\n",
            "2020-02-02 12:09:35.560543: I tensorflow/core/common_runtime/gpu/gpu_device.cc:1512] Adding visible gpu devices: 0\n",
            "2020-02-02 12:09:35.561404: I tensorflow/core/common_runtime/gpu/gpu_device.cc:984] Device interconnect StreamExecutor with strength 1 edge matrix:\n",
            "2020-02-02 12:09:35.561427: I tensorflow/core/common_runtime/gpu/gpu_device.cc:990]      0 \n",
            "2020-02-02 12:09:35.561436: I tensorflow/core/common_runtime/gpu/gpu_device.cc:1003] 0:   N \n",
            "2020-02-02 12:09:35.561506: I tensorflow/core/common_runtime/gpu/gpu_device.cc:1115] Created TensorFlow device (/job:localhost/replica:0/task:0/device:GPU:0 with 14125 MB memory) -> physical GPU (device: 0, name: Tesla T4, pci bus id: 0000:00:04.0, compute capability: 7.5)\n",
            "\"get_model_by_type\" model Type is: linear\n",
            "WARNING:tensorflow:From /usr/local/lib/python3.6/dist-packages/tensorflow/python/ops/resource_variable_ops.py:435: colocate_with (from tensorflow.python.framework.ops) is deprecated and will be removed in a future version.\n",
            "Instructions for updating:\n",
            "Colocations handled automatically by placer.\n",
            "WARNING:tensorflow:From /usr/local/lib/python3.6/dist-packages/tensorflow/python/keras/layers/core.py:143: calling dropout (from tensorflow.python.ops.nn_ops) with keep_prob is deprecated and will be removed in a future version.\n",
            "Instructions for updating:\n",
            "Please use `rate` instead of `keep_prob`. Rate should be set to `rate = 1 - keep_prob`.\n",
            "WARNING:tensorflow:From /usr/local/lib/python3.6/dist-packages/tensorflow/python/keras/utils/losses_utils.py:170: to_float (from tensorflow.python.ops.math_ops) is deprecated and will be removed in a future version.\n",
            "Instructions for updating:\n",
            "Use tf.cast instead.\n",
            "training with model type <class 'donkeycar.parts.keras.KerasLinear'>\n",
            "__________________________________________________________________________________________________\n",
            "Layer (type)                    Output Shape         Param #     Connected to                     \n",
            "==================================================================================================\n",
            "img_in (InputLayer)             (None, 120, 160, 3)  0                                            \n",
            "__________________________________________________________________________________________________\n",
            "conv2d_1 (Conv2D)               (None, 58, 78, 24)   1824        img_in[0][0]                     \n",
            "__________________________________________________________________________________________________\n",
            "dropout (Dropout)               (None, 58, 78, 24)   0           conv2d_1[0][0]                   \n",
            "__________________________________________________________________________________________________\n",
            "conv2d_2 (Conv2D)               (None, 27, 37, 32)   19232       dropout[0][0]                    \n",
            "__________________________________________________________________________________________________\n",
            "dropout_1 (Dropout)             (None, 27, 37, 32)   0           conv2d_2[0][0]                   \n",
            "__________________________________________________________________________________________________\n",
            "conv2d_3 (Conv2D)               (None, 12, 17, 64)   51264       dropout_1[0][0]                  \n",
            "__________________________________________________________________________________________________\n",
            "dropout_2 (Dropout)             (None, 12, 17, 64)   0           conv2d_3[0][0]                   \n",
            "__________________________________________________________________________________________________\n",
            "conv2d_4 (Conv2D)               (None, 10, 15, 64)   36928       dropout_2[0][0]                  \n",
            "__________________________________________________________________________________________________\n",
            "dropout_3 (Dropout)             (None, 10, 15, 64)   0           conv2d_4[0][0]                   \n",
            "__________________________________________________________________________________________________\n",
            "conv2d_5 (Conv2D)               (None, 8, 13, 64)    36928       dropout_3[0][0]                  \n",
            "__________________________________________________________________________________________________\n",
            "dropout_4 (Dropout)             (None, 8, 13, 64)    0           conv2d_5[0][0]                   \n",
            "__________________________________________________________________________________________________\n",
            "flattened (Flatten)             (None, 6656)         0           dropout_4[0][0]                  \n",
            "__________________________________________________________________________________________________\n",
            "dense (Dense)                   (None, 100)          665700      flattened[0][0]                  \n",
            "__________________________________________________________________________________________________\n",
            "dropout_5 (Dropout)             (None, 100)          0           dense[0][0]                      \n",
            "__________________________________________________________________________________________________\n",
            "dense_1 (Dense)                 (None, 50)           5050        dropout_5[0][0]                  \n",
            "__________________________________________________________________________________________________\n",
            "dropout_6 (Dropout)             (None, 50)           0           dense_1[0][0]                    \n",
            "__________________________________________________________________________________________________\n",
            "n_outputs0 (Dense)              (None, 1)            51          dropout_6[0][0]                  \n",
            "__________________________________________________________________________________________________\n",
            "n_outputs1 (Dense)              (None, 1)            51          dropout_6[0][0]                  \n",
            "==================================================================================================\n",
            "Total params: 817,028\n",
            "Trainable params: 817,028\n",
            "Non-trainable params: 0\n",
            "__________________________________________________________________________________________________\n",
            "None\n",
            "found 0 pickles writing json records and images in tub /content/donkey_share/mycar/data/1_history\n",
            "found 0 pickles writing json records and images in tub /content/donkey_share/mycar/data/4_shadow\n",
            "found 0 pickles writing json records and images in tub /content/donkey_share/mycar/data/tub_1_20-01-19\n",
            "found 0 pickles writing json records and images in tub /content/donkey_share/mycar/data/2_flipped\n",
            "found 0 pickles writing json records and images in tub /content/donkey_share/mycar/data/3_bright\n",
            "/content/donkey_share/mycar/data/1_history\n",
            "/content/donkey_share/mycar/data/4_shadow\n",
            "/content/donkey_share/mycar/data/tub_1_20-01-19\n",
            "/content/donkey_share/mycar/data/2_flipped\n",
            "/content/donkey_share/mycar/data/3_bright\n",
            "collating 8184 records ...\n",
            "train: 6547, val: 1637\n",
            "total records: 8184\n",
            "steps_per_epoch 51\n",
            "WARNING:tensorflow:From /usr/local/lib/python3.6/dist-packages/tensorflow/python/ops/math_ops.py:3066: to_int32 (from tensorflow.python.ops.math_ops) is deprecated and will be removed in a future version.\n",
            "Instructions for updating:\n",
            "Use tf.cast instead.\n",
            "Epoch 1/100\n",
            "2020-02-02 12:09:39.829711: I tensorflow/stream_executor/dso_loader.cc:152] successfully opened CUDA library libcublas.so.10.0 locally\n",
            "12/12 [==============================] - 2s 164ms/step - loss: 0.1078 - n_outputs0_loss: 0.1072 - n_outputs1_loss: 5.9414e-04\n",
            "\n",
            "Epoch 00001: val_loss improved from inf to 0.10778, saving model to /content/donkey_share/mycar/models/model_simulator_02_02_20_classic_test.h5\n",
            "51/51 [==============================] - 14s 266ms/step - loss: 0.1533 - n_outputs0_loss: 0.1188 - n_outputs1_loss: 0.0345 - val_loss: 0.1078 - val_n_outputs0_loss: 0.1072 - val_n_outputs1_loss: 5.9414e-04\n",
            "Epoch 2/100\n",
            "12/12 [==============================] - 0s 22ms/step - loss: 0.0970 - n_outputs0_loss: 0.0967 - n_outputs1_loss: 2.7908e-04\n",
            "\n",
            "Epoch 00002: val_loss improved from 0.10778 to 0.09701, saving model to /content/donkey_share/mycar/models/model_simulator_02_02_20_classic_test.h5\n",
            "51/51 [==============================] - 3s 59ms/step - loss: 0.1133 - n_outputs0_loss: 0.1117 - n_outputs1_loss: 0.0015 - val_loss: 0.0970 - val_n_outputs0_loss: 0.0967 - val_n_outputs1_loss: 2.7908e-04\n",
            "Epoch 3/100\n",
            "12/12 [==============================] - 0s 24ms/step - loss: 0.0473 - n_outputs0_loss: 0.0450 - n_outputs1_loss: 0.0024\n",
            "\n",
            "Epoch 00003: val_loss improved from 0.09701 to 0.04735, saving model to /content/donkey_share/mycar/models/model_simulator_02_02_20_classic_test.h5\n",
            "51/51 [==============================] - 3s 58ms/step - loss: 0.0716 - n_outputs0_loss: 0.0681 - n_outputs1_loss: 0.0035 - val_loss: 0.0473 - val_n_outputs0_loss: 0.0450 - val_n_outputs1_loss: 0.0024\n",
            "Epoch 4/100\n",
            "12/12 [==============================] - 0s 21ms/step - loss: 0.0407 - n_outputs0_loss: 0.0389 - n_outputs1_loss: 0.0018\n",
            "\n",
            "Epoch 00004: val_loss improved from 0.04735 to 0.04069, saving model to /content/donkey_share/mycar/models/model_simulator_02_02_20_classic_test.h5\n",
            "51/51 [==============================] - 3s 57ms/step - loss: 0.0492 - n_outputs0_loss: 0.0466 - n_outputs1_loss: 0.0026 - val_loss: 0.0407 - val_n_outputs0_loss: 0.0389 - val_n_outputs1_loss: 0.0018\n",
            "Epoch 5/100\n",
            "12/12 [==============================] - 0s 19ms/step - loss: 0.0266 - n_outputs0_loss: 0.0262 - n_outputs1_loss: 4.0187e-04\n",
            "\n",
            "Epoch 00005: val_loss improved from 0.04069 to 0.02657, saving model to /content/donkey_share/mycar/models/model_simulator_02_02_20_classic_test.h5\n",
            "51/51 [==============================] - 3s 57ms/step - loss: 0.0375 - n_outputs0_loss: 0.0353 - n_outputs1_loss: 0.0022 - val_loss: 0.0266 - val_n_outputs0_loss: 0.0262 - val_n_outputs1_loss: 4.0187e-04\n",
            "Epoch 6/100\n",
            "12/12 [==============================] - 0s 20ms/step - loss: 0.0216 - n_outputs0_loss: 0.0212 - n_outputs1_loss: 3.9220e-04\n",
            "\n",
            "Epoch 00006: val_loss improved from 0.02657 to 0.02157, saving model to /content/donkey_share/mycar/models/model_simulator_02_02_20_classic_test.h5\n",
            "51/51 [==============================] - 3s 56ms/step - loss: 0.0323 - n_outputs0_loss: 0.0304 - n_outputs1_loss: 0.0019 - val_loss: 0.0216 - val_n_outputs0_loss: 0.0212 - val_n_outputs1_loss: 3.9220e-04\n",
            "Epoch 7/100\n",
            "12/12 [==============================] - 0s 21ms/step - loss: 0.0174 - n_outputs0_loss: 0.0170 - n_outputs1_loss: 3.9099e-04\n",
            "\n",
            "Epoch 00007: val_loss improved from 0.02157 to 0.01737, saving model to /content/donkey_share/mycar/models/model_simulator_02_02_20_classic_test.h5\n",
            "51/51 [==============================] - 3s 57ms/step - loss: 0.0258 - n_outputs0_loss: 0.0241 - n_outputs1_loss: 0.0017 - val_loss: 0.0174 - val_n_outputs0_loss: 0.0170 - val_n_outputs1_loss: 3.9099e-04\n",
            "Epoch 8/100\n",
            "12/12 [==============================] - 0s 21ms/step - loss: 0.0158 - n_outputs0_loss: 0.0148 - n_outputs1_loss: 0.0010\n",
            "\n",
            "Epoch 00008: val_loss improved from 0.01737 to 0.01583, saving model to /content/donkey_share/mycar/models/model_simulator_02_02_20_classic_test.h5\n",
            "51/51 [==============================] - 3s 58ms/step - loss: 0.0208 - n_outputs0_loss: 0.0192 - n_outputs1_loss: 0.0016 - val_loss: 0.0158 - val_n_outputs0_loss: 0.0148 - val_n_outputs1_loss: 0.0010\n",
            "Epoch 9/100\n",
            "12/12 [==============================] - 0s 23ms/step - loss: 0.0128 - n_outputs0_loss: 0.0124 - n_outputs1_loss: 4.2090e-04\n",
            "\n",
            "Epoch 00009: val_loss improved from 0.01583 to 0.01283, saving model to /content/donkey_share/mycar/models/model_simulator_02_02_20_classic_test.h5\n",
            "51/51 [==============================] - 3s 59ms/step - loss: 0.0176 - n_outputs0_loss: 0.0162 - n_outputs1_loss: 0.0014 - val_loss: 0.0128 - val_n_outputs0_loss: 0.0124 - val_n_outputs1_loss: 4.2090e-04\n",
            "Epoch 10/100\n",
            "12/12 [==============================] - 0s 22ms/step - loss: 0.0093 - n_outputs0_loss: 0.0090 - n_outputs1_loss: 2.7530e-04\n",
            "\n",
            "Epoch 00010: val_loss improved from 0.01283 to 0.00925, saving model to /content/donkey_share/mycar/models/model_simulator_02_02_20_classic_test.h5\n",
            "51/51 [==============================] - 3s 60ms/step - loss: 0.0154 - n_outputs0_loss: 0.0141 - n_outputs1_loss: 0.0013 - val_loss: 0.0093 - val_n_outputs0_loss: 0.0090 - val_n_outputs1_loss: 2.7530e-04\n",
            "Epoch 11/100\n",
            "12/12 [==============================] - 0s 22ms/step - loss: 0.0102 - n_outputs0_loss: 0.0100 - n_outputs1_loss: 2.0283e-04\n",
            "\n",
            "Epoch 00011: val_loss did not improve from 0.00925\n",
            "51/51 [==============================] - 3s 53ms/step - loss: 0.0136 - n_outputs0_loss: 0.0123 - n_outputs1_loss: 0.0013 - val_loss: 0.0102 - val_n_outputs0_loss: 0.0100 - val_n_outputs1_loss: 2.0283e-04\n",
            "Epoch 12/100\n",
            "12/12 [==============================] - 0s 21ms/step - loss: 0.0077 - n_outputs0_loss: 0.0074 - n_outputs1_loss: 2.9772e-04\n",
            "\n",
            "Epoch 00012: val_loss improved from 0.00925 to 0.00766, saving model to /content/donkey_share/mycar/models/model_simulator_02_02_20_classic_test.h5\n",
            "51/51 [==============================] - 3s 58ms/step - loss: 0.0129 - n_outputs0_loss: 0.0117 - n_outputs1_loss: 0.0011 - val_loss: 0.0077 - val_n_outputs0_loss: 0.0074 - val_n_outputs1_loss: 2.9772e-04\n",
            "Epoch 13/100\n",
            "12/12 [==============================] - 0s 21ms/step - loss: 0.0062 - n_outputs0_loss: 0.0058 - n_outputs1_loss: 3.6778e-04\n",
            "\n",
            "Epoch 00013: val_loss improved from 0.00766 to 0.00617, saving model to /content/donkey_share/mycar/models/model_simulator_02_02_20_classic_test.h5\n",
            "51/51 [==============================] - 3s 57ms/step - loss: 0.0110 - n_outputs0_loss: 0.0100 - n_outputs1_loss: 0.0010 - val_loss: 0.0062 - val_n_outputs0_loss: 0.0058 - val_n_outputs1_loss: 3.6778e-04\n",
            "Epoch 14/100\n",
            "12/12 [==============================] - 0s 22ms/step - loss: 0.0058 - n_outputs0_loss: 0.0055 - n_outputs1_loss: 3.0826e-04\n",
            "\n",
            "Epoch 00014: val_loss improved from 0.00617 to 0.00576, saving model to /content/donkey_share/mycar/models/model_simulator_02_02_20_classic_test.h5\n",
            "51/51 [==============================] - 3s 57ms/step - loss: 0.0096 - n_outputs0_loss: 0.0086 - n_outputs1_loss: 9.7834e-04 - val_loss: 0.0058 - val_n_outputs0_loss: 0.0055 - val_n_outputs1_loss: 3.0826e-04\n",
            "Epoch 15/100\n",
            "12/12 [==============================] - 0s 23ms/step - loss: 0.0050 - n_outputs0_loss: 0.0047 - n_outputs1_loss: 2.3752e-04\n",
            "\n",
            "Epoch 00015: val_loss improved from 0.00576 to 0.00498, saving model to /content/donkey_share/mycar/models/model_simulator_02_02_20_classic_test.h5\n",
            "51/51 [==============================] - 3s 58ms/step - loss: 0.0091 - n_outputs0_loss: 0.0082 - n_outputs1_loss: 9.3566e-04 - val_loss: 0.0050 - val_n_outputs0_loss: 0.0047 - val_n_outputs1_loss: 2.3752e-04\n",
            "Epoch 16/100\n",
            "12/12 [==============================] - 0s 23ms/step - loss: 0.0040 - n_outputs0_loss: 0.0038 - n_outputs1_loss: 2.1888e-04\n",
            "\n",
            "Epoch 00016: val_loss improved from 0.00498 to 0.00401, saving model to /content/donkey_share/mycar/models/model_simulator_02_02_20_classic_test.h5\n",
            "51/51 [==============================] - 3s 58ms/step - loss: 0.0090 - n_outputs0_loss: 0.0081 - n_outputs1_loss: 8.4055e-04 - val_loss: 0.0040 - val_n_outputs0_loss: 0.0038 - val_n_outputs1_loss: 2.1888e-04\n",
            "Epoch 17/100\n",
            "12/12 [==============================] - 0s 20ms/step - loss: 0.0053 - n_outputs0_loss: 0.0052 - n_outputs1_loss: 1.8425e-04\n",
            "\n",
            "Epoch 00017: val_loss did not improve from 0.00401\n",
            "51/51 [==============================] - 3s 51ms/step - loss: 0.0082 - n_outputs0_loss: 0.0074 - n_outputs1_loss: 8.1686e-04 - val_loss: 0.0053 - val_n_outputs0_loss: 0.0052 - val_n_outputs1_loss: 1.8425e-04\n",
            "Epoch 18/100\n",
            "12/12 [==============================] - 0s 22ms/step - loss: 0.0045 - n_outputs0_loss: 0.0043 - n_outputs1_loss: 1.7901e-04\n",
            "\n",
            "Epoch 00018: val_loss did not improve from 0.00401\n",
            "51/51 [==============================] - 3s 52ms/step - loss: 0.0077 - n_outputs0_loss: 0.0069 - n_outputs1_loss: 7.4227e-04 - val_loss: 0.0045 - val_n_outputs0_loss: 0.0043 - val_n_outputs1_loss: 1.7901e-04\n",
            "Epoch 19/100\n",
            "12/12 [==============================] - 0s 20ms/step - loss: 0.0039 - n_outputs0_loss: 0.0037 - n_outputs1_loss: 1.8518e-04\n",
            "\n",
            "Epoch 00019: val_loss improved from 0.00401 to 0.00392, saving model to /content/donkey_share/mycar/models/model_simulator_02_02_20_classic_test.h5\n",
            "51/51 [==============================] - 3s 57ms/step - loss: 0.0074 - n_outputs0_loss: 0.0067 - n_outputs1_loss: 7.5054e-04 - val_loss: 0.0039 - val_n_outputs0_loss: 0.0037 - val_n_outputs1_loss: 1.8518e-04\n",
            "Epoch 20/100\n",
            "12/12 [==============================] - 0s 21ms/step - loss: 0.0039 - n_outputs0_loss: 0.0037 - n_outputs1_loss: 2.1258e-04\n",
            "\n",
            "Epoch 00020: val_loss did not improve from 0.00392\n",
            "51/51 [==============================] - 3s 52ms/step - loss: 0.0069 - n_outputs0_loss: 0.0062 - n_outputs1_loss: 6.9442e-04 - val_loss: 0.0039 - val_n_outputs0_loss: 0.0037 - val_n_outputs1_loss: 2.1258e-04\n",
            "Epoch 21/100\n",
            "12/12 [==============================] - 0s 20ms/step - loss: 0.0032 - n_outputs0_loss: 0.0029 - n_outputs1_loss: 2.9322e-04\n",
            "\n",
            "Epoch 00021: val_loss improved from 0.00392 to 0.00324, saving model to /content/donkey_share/mycar/models/model_simulator_02_02_20_classic_test.h5\n",
            "51/51 [==============================] - 3s 57ms/step - loss: 0.0067 - n_outputs0_loss: 0.0060 - n_outputs1_loss: 6.5420e-04 - val_loss: 0.0032 - val_n_outputs0_loss: 0.0029 - val_n_outputs1_loss: 2.9322e-04\n",
            "Epoch 22/100\n",
            "12/12 [==============================] - 0s 23ms/step - loss: 0.0034 - n_outputs0_loss: 0.0032 - n_outputs1_loss: 1.9480e-04\n",
            "\n",
            "Epoch 00022: val_loss did not improve from 0.00324\n",
            "51/51 [==============================] - 3s 52ms/step - loss: 0.0065 - n_outputs0_loss: 0.0059 - n_outputs1_loss: 6.1256e-04 - val_loss: 0.0034 - val_n_outputs0_loss: 0.0032 - val_n_outputs1_loss: 1.9480e-04\n",
            "Epoch 23/100\n",
            "12/12 [==============================] - 0s 20ms/step - loss: 0.0039 - n_outputs0_loss: 0.0037 - n_outputs1_loss: 2.0229e-04\n",
            "\n",
            "Epoch 00023: val_loss did not improve from 0.00324\n",
            "51/51 [==============================] - 3s 51ms/step - loss: 0.0065 - n_outputs0_loss: 0.0059 - n_outputs1_loss: 6.0360e-04 - val_loss: 0.0039 - val_n_outputs0_loss: 0.0037 - val_n_outputs1_loss: 2.0229e-04\n",
            "Epoch 24/100\n",
            "12/12 [==============================] - 0s 21ms/step - loss: 0.0032 - n_outputs0_loss: 0.0030 - n_outputs1_loss: 1.5990e-04\n",
            "\n",
            "Epoch 00024: val_loss improved from 0.00324 to 0.00316, saving model to /content/donkey_share/mycar/models/model_simulator_02_02_20_classic_test.h5\n",
            "51/51 [==============================] - 3s 57ms/step - loss: 0.0060 - n_outputs0_loss: 0.0055 - n_outputs1_loss: 5.4530e-04 - val_loss: 0.0032 - val_n_outputs0_loss: 0.0030 - val_n_outputs1_loss: 1.5990e-04\n",
            "Epoch 25/100\n",
            "12/12 [==============================] - 0s 21ms/step - loss: 0.0035 - n_outputs0_loss: 0.0034 - n_outputs1_loss: 1.5233e-04\n",
            "\n",
            "Epoch 00025: val_loss did not improve from 0.00316\n",
            "51/51 [==============================] - 3s 52ms/step - loss: 0.0061 - n_outputs0_loss: 0.0055 - n_outputs1_loss: 5.3984e-04 - val_loss: 0.0035 - val_n_outputs0_loss: 0.0034 - val_n_outputs1_loss: 1.5233e-04\n",
            "Epoch 26/100\n",
            "12/12 [==============================] - 0s 20ms/step - loss: 0.0034 - n_outputs0_loss: 0.0032 - n_outputs1_loss: 1.6399e-04\n",
            "\n",
            "Epoch 00026: val_loss did not improve from 0.00316\n",
            "51/51 [==============================] - 3s 51ms/step - loss: 0.0059 - n_outputs0_loss: 0.0054 - n_outputs1_loss: 5.1478e-04 - val_loss: 0.0034 - val_n_outputs0_loss: 0.0032 - val_n_outputs1_loss: 1.6399e-04\n",
            "Epoch 00026: early stopping\n",
            "Training completed in 0:01:27.\n",
            "\n",
            "\n",
            "----------- Best Eval Loss :0.003159 ---------\n",
            "<Figure size 640x480 with 1 Axes>\n"
          ],
          "name": "stdout"
        }
      ]
    },
    {
      "cell_type": "code",
      "metadata": {
        "id": "3xXdT5hGXv3I",
        "colab_type": "code",
        "colab": {}
      },
      "source": [
        ""
      ],
      "execution_count": 0,
      "outputs": []
    },
    {
      "cell_type": "code",
      "metadata": {
        "id": "Fc7l59HVQBMf",
        "colab_type": "code",
        "colab": {}
      },
      "source": [
        ""
      ],
      "execution_count": 0,
      "outputs": []
    },
    {
      "cell_type": "code",
      "metadata": {
        "id": "P5YxpLLN6LCB",
        "colab_type": "code",
        "colab": {}
      },
      "source": [
        "from google.colab import drive\n",
        "drive.mount('/content/drive')"
      ],
      "execution_count": 0,
      "outputs": []
    },
    {
      "cell_type": "markdown",
      "metadata": {
        "id": "pOX3AVCfhnOi",
        "colab_type": "text"
      },
      "source": [
        "# Update Models via GitHub"
      ]
    },
    {
      "cell_type": "markdown",
      "metadata": {
        "id": "T_0FTr1I8KN9",
        "colab_type": "text"
      },
      "source": [
        "**Initialize Folder Models in GitHub**"
      ]
    },
    {
      "cell_type": "code",
      "metadata": {
        "id": "nh7e_phlZhca",
        "colab_type": "code",
        "outputId": "a665fabe-d05b-41c0-c57c-c040561206f8",
        "colab": {
          "base_uri": "https://localhost:8080/",
          "height": 191
        }
      },
      "source": [
        "%cd /content/donkey_share/mycar/models\n",
        "!git config --global user.password \"xxxxx\"\n",
        "!git config --global user.name \"doc-beha\"\n",
        "!git config --global user.email \"manuel.beha@gmx.de\"\n",
        "!git init\n",
        "#!git add *\n",
        "#!git commit -m \"initialize in cloud\"\n",
        "!git remote add origin  https://doc-beha:xxxxxgithub.com/doc-beha/donkey_car_models_simulator.git\n",
        "!git pull origin master --allow-unrelated-histories"
      ],
      "execution_count": 22,
      "outputs": [
        {
          "output_type": "stream",
          "text": [
            "/content/donkey_share/mycar/models\n",
            "Initialized empty Git repository in /content/donkey_share/mycar/models/.git/\n",
            "remote: Enumerating objects: 15, done.\u001b[K\n",
            "remote: Counting objects: 100% (15/15), done.\u001b[K\n",
            "remote: Compressing objects: 100% (12/12), done.\u001b[K\n",
            "remote: Total 15 (delta 2), reused 14 (delta 1), pack-reused 0\u001b[K\n",
            "Unpacking objects: 100% (15/15), done.\n",
            "From https://github.com/doc-beha/donkey_car_models_simulator\n",
            " * branch            master     -> FETCH_HEAD\n",
            " * [new branch]      master     -> origin/master\n"
          ],
          "name": "stdout"
        }
      ]
    },
    {
      "cell_type": "markdown",
      "metadata": {
        "id": "jxmzccwu8TOK",
        "colab_type": "text"
      },
      "source": [
        "**Upload after Initialization**"
      ]
    },
    {
      "cell_type": "code",
      "metadata": {
        "id": "bWkuGJQb8QX3",
        "colab_type": "code",
        "outputId": "abce040c-6357-49bd-a35e-aa11cfeceeff",
        "colab": {
          "base_uri": "https://localhost:8080/",
          "height": 260
        }
      },
      "source": [
        "%cd /content/donkey_share/mycar/models\n",
        "!git add *\n",
        "!git commit -m \"model commit\"\n",
        "!git push -u origin master\n",
        "\n"
      ],
      "execution_count": 23,
      "outputs": [
        {
          "output_type": "stream",
          "text": [
            "/content/donkey_share/mycar/models\n",
            "[master c02139a] model commit\n",
            " 2 files changed, 0 insertions(+), 0 deletions(-)\n",
            " create mode 100644 model_simulator_02_02_20_classic_test.h5\n",
            " create mode 100644 model_simulator_02_02_20_classic_test.h5_loss_acc_0.003159.png\n",
            "Counting objects: 4, done.\n",
            "Delta compression using up to 2 threads.\n",
            "Compressing objects: 100% (4/4), done.\n",
            "Writing objects: 100% (4/4), 2.91 MiB | 4.02 MiB/s, done.\n",
            "Total 4 (delta 1), reused 0 (delta 0)\n",
            "remote: Resolving deltas: 100% (1/1), completed with 1 local object.\u001b[K\n",
            "To https://github.com/doc-beha/donkey_car_models_simulator.git\n",
            "   2807d9a..c02139a  master -> master\n",
            "Branch 'master' set up to track remote branch 'master' from 'origin'.\n"
          ],
          "name": "stdout"
        }
      ]
    }
  ]
}
