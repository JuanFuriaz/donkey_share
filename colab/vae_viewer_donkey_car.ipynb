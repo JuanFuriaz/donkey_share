{
  "nbformat": 4,
  "nbformat_minor": 0,
  "metadata": {
    "kernelspec": {
      "display_name": "Python 3",
      "language": "python",
      "name": "python3"
    },
    "language_info": {
      "codemirror_mode": {
        "name": "ipython",
        "version": 3
      },
      "file_extension": ".py",
      "mimetype": "text/x-python",
      "name": "python",
      "nbconvert_exporter": "python",
      "pygments_lexer": "ipython3",
      "version": "3.6.9"
    },
    "colab": {
      "name": "vae_viewer_donkey_car.ipynb",
      "provenance": [],
      "collapsed_sections": [],
      "toc_visible": true
    }
  },
  "cells": [
    {
      "cell_type": "markdown",
      "metadata": {
        "id": "TCsksKZrO3B9",
        "colab_type": "text"
      },
      "source": [
        "VAE viewer notebook for DonkeyCar\n",
        "===\n",
        "\n",
        "This notebook can visualize vae. This repository using JetBot real camera."
      ]
    },
    {
      "cell_type": "code",
      "metadata": {
        "id": "ysOVwuuaO3CL",
        "colab_type": "code",
        "colab": {}
      },
      "source": [
        "import sys\n",
        "import PIL\n",
        "import numpy as np\n",
        "import cv2\n",
        "import traitlets\n",
        "import ipywidgets.widgets as widgets\n",
        "from IPython.display import display\n",
        "import torch\n",
        "from torchvision.transforms import transforms\n",
        "#sys.path.append('../../../vae')\n",
        "#from vae import VAE\n",
        "#from jetcam.csi_camera import CSICamera\n",
        "#from jetcam.utils import bgr8_to_jpeg"
      ],
      "execution_count": 0,
      "outputs": []
    },
    {
      "cell_type": "code",
      "metadata": {
        "id": "-T1QLlP-PkOQ",
        "colab_type": "code",
        "outputId": "e0700f58-1333-45f5-d98b-b7bbab8dc4cd",
        "colab": {
          "base_uri": "https://localhost:8080/",
          "height": 191
        }
      },
      "source": [
        "%cd /content/\n",
        "!mkdir data\n",
        "%cd /content/data\n",
        "!rm -r * #Erase in case of old data \n",
        "!git clone https://github.com/doc-beha/donkey_car_training_data_sim # get the latest data\n",
        "!mv /content/data/donkey_car_training_data_sim/* /content/data/    #\n",
        "!rm -r donkey_car_training_data_sim"
      ],
      "execution_count": 0,
      "outputs": [
        {
          "output_type": "stream",
          "text": [
            "/content\n",
            "/content/data\n",
            "rm: cannot remove '*': No such file or directory\n",
            "Cloning into 'donkey_car_training_data_sim'...\n",
            "remote: Enumerating objects: 13933, done.\u001b[K\n",
            "remote: Counting objects: 100% (13933/13933), done.\u001b[K\n",
            "remote: Compressing objects: 100% (4967/4967), done.\u001b[K\n",
            "remote: Total 13933 (delta 9148), reused 13745 (delta 8963), pack-reused 0\u001b[K\n",
            "Receiving objects: 100% (13933/13933), 12.56 MiB | 7.68 MiB/s, done.\n",
            "Resolving deltas: 100% (9148/9148), done.\n"
          ],
          "name": "stdout"
        }
      ]
    },
    {
      "cell_type": "code",
      "metadata": {
        "id": "RblFJqZJP9tS",
        "colab_type": "code",
        "outputId": "c1d8c8da-8340-4e3e-d451-7e24c1e37e52",
        "colab": {
          "base_uri": "https://localhost:8080/",
          "height": 173
        }
      },
      "source": [
        "%cd /content/\n",
        "!mkdir vae\n",
        "%cd /content/vae\n",
        "!rm -r * #Erase in case of old data \n",
        "!git clone  https://github.com/doc-beha/donkey_car_models_simulator.git # get the latest data\n",
        "!mv /content/vae/donkey_car_models_simulator/* /content/data/vae/    #\n",
        "!rm -r donkey_car_models_simulator"
      ],
      "execution_count": 0,
      "outputs": [
        {
          "output_type": "stream",
          "text": [
            "/content\n",
            "/content/vae\n",
            "rm: cannot remove '*': No such file or directory\n",
            "Cloning into 'donkey_car_models_simulator'...\n",
            "remote: Enumerating objects: 35, done.\u001b[K\n",
            "remote: Counting objects: 100% (35/35), done.\u001b[K\n",
            "remote: Compressing objects: 100% (31/31), done.\u001b[K\n",
            "remote: Total 35 (delta 8), reused 29 (delta 2), pack-reused 0\u001b[K\n",
            "Unpacking objects: 100% (35/35), done.\n"
          ],
          "name": "stdout"
        }
      ]
    },
    {
      "cell_type": "markdown",
      "metadata": {
        "id": "VBcdZ4e-O3DK",
        "colab_type": "text"
      },
      "source": [
        "## Setting Parameter\n",
        "\n",
        "|Name | Description| Default|\n",
        "|:----|:-----------|:-------|\n",
        "|IMAGE_CHANNELS | Image channel such as RGB | 3 Not change|\n",
        "|VARIANTS_SIZE  | Variants size of VAE      | 32          |\n",
        "|MODEL_PATH     | Trained VAE model file path | ../../vae.torch|"
      ]
    },
    {
      "cell_type": "code",
      "metadata": {
        "id": "98ZuZoVYO3DU",
        "colab_type": "code",
        "colab": {}
      },
      "source": [
        "IMAGE_CHANNELS = 3\n",
        "VARIANTS_SIZE = 32\n",
        "MODEL_PATH = '/content/data/vae/vae_tub_1_20-05-25_try2.torch'"
      ],
      "execution_count": 0,
      "outputs": []
    },
    {
      "cell_type": "code",
      "metadata": {
        "id": "u4rQjyySPbwa",
        "colab_type": "code",
        "colab": {}
      },
      "source": [
        "import torch\n",
        "import torch.nn as nn\n",
        "import torch.nn.functional as F\n",
        "\n",
        "class Flatten(nn.Module):\n",
        "    def forward(self, input):\n",
        "        return input.view(input.size(0), -1)\n",
        "\n",
        "class UnFlatten(nn.Module):\n",
        "    def forward(self, input, size=256):\n",
        "        return input.view(input.size(0), size, 3, 8)\n",
        "\n",
        "\n",
        "class VAE(nn.Module):\n",
        "    def __init__(self, image_channels=3, h_dim=6144, z_dim=32):\n",
        "        super(VAE, self).__init__()\n",
        "        self.z_dim = z_dim\n",
        "        self.encoder = nn.Sequential(\n",
        "            nn.Conv2d(image_channels, 32, kernel_size=4, stride=2),\n",
        "            nn.ReLU(),\n",
        "            nn.Conv2d(32, 64, kernel_size=4, stride=2),\n",
        "            nn.ReLU(),\n",
        "            nn.Conv2d(64, 128, kernel_size=4, stride=2),\n",
        "            nn.ReLU(),\n",
        "            nn.Conv2d(128, 256, kernel_size=4, stride=2),\n",
        "            nn.ReLU(),\n",
        "            Flatten()\n",
        "        )\n",
        "        \n",
        "        self.fc1 = nn.Linear(h_dim, z_dim)\n",
        "        self.fc2 = nn.Linear(h_dim, z_dim)\n",
        "        self.fc3 = nn.Linear(z_dim, h_dim)\n",
        "        \n",
        "        self.decoder = nn.Sequential(\n",
        "            UnFlatten(),\n",
        "            nn.ConvTranspose2d(256, 128, kernel_size=4, stride=2),\n",
        "            nn.ReLU(),\n",
        "            nn.ConvTranspose2d(128, 64, kernel_size=4, stride=2),\n",
        "            nn.ReLU(),\n",
        "            nn.ConvTranspose2d(64, 32, kernel_size=5, stride=2),\n",
        "            nn.ReLU(),\n",
        "            nn.ConvTranspose2d(32, image_channels, kernel_size=4, stride=2),\n",
        "            nn.Sigmoid(),\n",
        "        )\n",
        "        \n",
        "    def reparameterize(self, mu, logvar):\n",
        "        std = logvar.mul(0.5).exp_()\n",
        "        esp = torch.randn(*mu.size()).to(device)\n",
        "        z = mu + std * esp\n",
        "        return z\n",
        "    \n",
        "    def bottleneck(self, h):\n",
        "        mu, logvar = self.fc1(h), F.softplus(self.fc2(h))\n",
        "        z = self.reparameterize(mu, logvar)\n",
        "        return z, mu, logvar\n",
        "\n",
        "    def encode(self, x):\n",
        "        h = self.encoder(x)\n",
        "        z, mu, logvar = self.bottleneck(h)\n",
        "        return z, mu, logvar\n",
        "\n",
        "    def decode(self, z):\n",
        "        z = self.fc3(z)\n",
        "        z = self.decoder(z)\n",
        "        return z\n",
        "\n",
        "    def forward(self, x):\n",
        "        z, mu, logvar = self.encode(x)\n",
        "        z = self.decode(z)\n",
        "        return z, mu, logvar\n",
        "\n",
        "    def loss_fn(self, images, reconst, mean, logvar):\n",
        "        KL = -0.5 * torch.sum((1 + logvar - mean.pow(2) - logvar.exp()), dim=0)\n",
        "        KL = torch.mean(KL)\n",
        "        reconstruction = F.binary_cross_entropy(reconst.view(-1,38400), images.view(-1, 38400), reduction='sum') #size_average=False)\n",
        "        return reconstruction + 5.0 * KL"
      ],
      "execution_count": 0,
      "outputs": []
    },
    {
      "cell_type": "markdown",
      "metadata": {
        "id": "vmk_VjrcO3EV",
        "colab_type": "text"
      },
      "source": [
        "## Load trained VAE model.\n",
        "Loading trained VAE model on GPU memory. "
      ]
    },
    {
      "cell_type": "code",
      "metadata": {
        "id": "XkUqZ7_PO3Ei",
        "colab_type": "code",
        "outputId": "3bd51bc1-f89b-481d-ebb8-64e79e5a5407",
        "colab": {
          "base_uri": "https://localhost:8080/",
          "height": 486
        }
      },
      "source": [
        "device = torch.device('cuda' if torch.cuda.is_available() else 'cpu')\n",
        "vae = VAE(image_channels=IMAGE_CHANNELS, z_dim=VARIANTS_SIZE)\n",
        "vae.load_state_dict(torch.load(MODEL_PATH, map_location=torch.device(device)))\n",
        "vae.to(device).eval()"
      ],
      "execution_count": 0,
      "outputs": [
        {
          "output_type": "execute_result",
          "data": {
            "text/plain": [
              "VAE(\n",
              "  (encoder): Sequential(\n",
              "    (0): Conv2d(3, 32, kernel_size=(4, 4), stride=(2, 2))\n",
              "    (1): ReLU()\n",
              "    (2): Conv2d(32, 64, kernel_size=(4, 4), stride=(2, 2))\n",
              "    (3): ReLU()\n",
              "    (4): Conv2d(64, 128, kernel_size=(4, 4), stride=(2, 2))\n",
              "    (5): ReLU()\n",
              "    (6): Conv2d(128, 256, kernel_size=(4, 4), stride=(2, 2))\n",
              "    (7): ReLU()\n",
              "    (8): Flatten()\n",
              "  )\n",
              "  (fc1): Linear(in_features=6144, out_features=32, bias=True)\n",
              "  (fc2): Linear(in_features=6144, out_features=32, bias=True)\n",
              "  (fc3): Linear(in_features=32, out_features=6144, bias=True)\n",
              "  (decoder): Sequential(\n",
              "    (0): UnFlatten()\n",
              "    (1): ConvTranspose2d(256, 128, kernel_size=(4, 4), stride=(2, 2))\n",
              "    (2): ReLU()\n",
              "    (3): ConvTranspose2d(128, 64, kernel_size=(4, 4), stride=(2, 2))\n",
              "    (4): ReLU()\n",
              "    (5): ConvTranspose2d(64, 32, kernel_size=(5, 5), stride=(2, 2))\n",
              "    (6): ReLU()\n",
              "    (7): ConvTranspose2d(32, 3, kernel_size=(4, 4), stride=(2, 2))\n",
              "    (8): Sigmoid()\n",
              "  )\n",
              ")"
            ]
          },
          "metadata": {
            "tags": []
          },
          "execution_count": 6
        }
      ]
    },
    {
      "cell_type": "code",
      "metadata": {
        "id": "m8FvRp27PaIg",
        "colab_type": "code",
        "colab": {}
      },
      "source": [
        ""
      ],
      "execution_count": 0,
      "outputs": []
    },
    {
      "cell_type": "markdown",
      "metadata": {
        "id": "JJG9kuAWO3Gb",
        "colab_type": "text"
      },
      "source": [
        "## Define preprocess and postprocess"
      ]
    },
    {
      "cell_type": "code",
      "metadata": {
        "id": "Rm2dqhv1O3Gk",
        "colab_type": "code",
        "colab": {}
      },
      "source": [
        "def preprocess(image):\n",
        "    observe = PIL.Image.fromarray(image)\n",
        "    observe = observe.resize((160,120))\n",
        "    croped = observe.crop((0, 40, 160, 120))\n",
        "    tensor = transforms.ToTensor()(croped)\n",
        "    return tensor\n",
        "    \n",
        "\n",
        "def rgb8_to_jpeg(image):\n",
        "    return bytes(cv2.imencode('.jpg', image)[1])"
      ],
      "execution_count": 0,
      "outputs": []
    },
    {
      "cell_type": "markdown",
      "metadata": {
        "id": "dfsTaPVQO3HZ",
        "colab_type": "text"
      },
      "source": [
        "## Visualize latent space function"
      ]
    },
    {
      "cell_type": "code",
      "metadata": {
        "id": "WeplF2uAO3Hj",
        "colab_type": "code",
        "colab": {}
      },
      "source": [
        "ABS_LATENT_MAX_VALUE = 10\n",
        "PANEL_HEIGHT = 10\n",
        "PANEL_WIDTH = 10\n",
        "\n",
        "def sigmoid(x, gain=1, offset_x=0):\n",
        "    return ((np.tanh(((x+offset_x)*gain)/2)+1)/2)\n",
        "\n",
        "def color_bar_rgb(x):\n",
        "    gain = 10\n",
        "    offset_x= 0.2\n",
        "    offset_green = 0.6\n",
        "    x = (x * 2) - 1\n",
        "    red = sigmoid(x, gain, -1*offset_x)\n",
        "    blue = 1-sigmoid(x, gain, offset_x)\n",
        "    green = sigmoid(x, gain, offset_green) + (1-sigmoid(x,gain,-1*offset_green))\n",
        "    green = green - 1.0\n",
        "    return [blue * 255,green * 255,red * 255]\n",
        "\n",
        "def _get_color(value):\n",
        "    t = (value + ABS_LATENT_MAX_VALUE) / (ABS_LATENT_MAX_VALUE * 2.0)\n",
        "    color = color_bar_rgb(t)\n",
        "    return color\n",
        "\n",
        "def create_color_panel(latent_spaces):\n",
        "    images = []\n",
        "    for z in latent_spaces:\n",
        "        p = np.zeros((PANEL_HEIGHT, PANEL_WIDTH, 3))\n",
        "        color = _get_color(z)\n",
        "        p += color[::-1]\n",
        "        p = np.clip(p, 0, 255)\n",
        "        images.append(p)\n",
        "    panel = np.concatenate(images, axis=1)\n",
        "    return panel"
      ],
      "execution_count": 0,
      "outputs": []
    },
    {
      "cell_type": "markdown",
      "metadata": {
        "id": "T3Twys5WO3Ja",
        "colab_type": "text"
      },
      "source": [
        "## Start main process"
      ]
    },
    {
      "cell_type": "code",
      "metadata": {
        "id": "SMA0JnfCPDVM",
        "colab_type": "code",
        "outputId": "5e10022b-b0c9-4280-d3be-56cfa831e503",
        "colab": {
          "base_uri": "https://localhost:8080/",
          "height": 269
        }
      },
      "source": [
        "from PIL import Image\n",
        "import io\n",
        "import matplotlib.pyplot as plt\n",
        "\n",
        "def image_to_byte_array(image:Image):\n",
        "  imgByteArr = io.BytesIO()\n",
        "  image.save(imgByteArr, format=image.format)\n",
        "  imgByteArr = imgByteArr.getvalue()\n",
        "  return imgByteArr\n",
        "\n",
        "def vae_process(change):\n",
        "    image = change['new']\n",
        "    image = preprocess(image)\n",
        "    resize_value = rgb8_to_jpeg(np.transpose(np.uint8(image*255),[1,2,0]))\n",
        "    z, _ ,_ = vae.encode(torch.stack((image,image),dim=0)[:-1].to(device))\n",
        "    reconst = vae.decode(z)\n",
        "    #return reconst\n",
        "\n",
        "    reconst = reconst.detach().cpu()[0].numpy()\n",
        "    reconst = np.transpose(np.uint8(reconst*255),[1,2,0])\n",
        "\n",
        "    return reconst, z\n",
        "    result_value = rgb8_to_jpeg(reconst)\n",
        "    #return result_value\n",
        "    latent_space = z.detach().cpu().numpy()[0]\n",
        "    return rgb8_to_jpeg(create_color_panel(latent_space))\n",
        "\n",
        "from PIL import Image\n",
        "from io import BytesIO\n",
        "import cv2\n",
        "\n",
        "# name of training-data-set\n",
        "tub_name=\"tub_1_20-05-25\"\n",
        "data_path = \"/content/data/\"\n",
        "num_images = 4\n",
        "i = 0\n",
        "\n",
        "f, axarr = plt.subplots(num_images,3)\n",
        "\n",
        "import glob,os\n",
        "files = glob.glob(os.path.join(data_path, tub_name, '*.jpg'))\n",
        "for f in files:\n",
        "\n",
        "  orig_image = cv2.imread(f)\n",
        "  reconst, z = vae_process({'new': orig_image})\n",
        "\n",
        "  import torch\n",
        "  import torchvision.transforms.functional as F_\n",
        "  reconst_image = F_.to_pil_image(reconst)\n",
        "  z = F_.to_pil_image(z)\n",
        "\n",
        "  import matplotlib.pyplot as plt\n",
        "  orig_image = PIL.Image.fromarray(orig_image)\n",
        "  orig_image = orig_image.resize((160,120))\n",
        "  orig_image = orig_image.crop((0, 40, 160, 120))\n",
        "\n",
        "  axarr[i,0].imshow(orig_image)\n",
        "  axarr[i,1].imshow(z)\n",
        "  axarr[i,2].imshow(reconst_image)\n",
        "\n",
        "  i = i + 1\n",
        "\n",
        "  if i >= num_images:\n",
        "    break\n",
        "\n"
      ],
      "execution_count": 0,
      "outputs": [
        {
          "output_type": "display_data",
          "data": {
            "image/png": "[encoded data removed]",
            "text/plain": [
              "<Figure size 432x288 with 12 Axes>"
            ]
          },
          "metadata": {
            "tags": [],
            "needs_background": "light"
          }
        }
      ]
    }
  ]
}